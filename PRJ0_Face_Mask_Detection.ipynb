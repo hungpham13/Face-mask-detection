{
  "nbformat": 4,
  "nbformat_minor": 0,
  "metadata": {
    "colab": {
      "name": "PRJ0-Face Mask Detection.ipynb",
      "provenance": [],
      "authorship_tag": "ABX9TyOKLiE+NP/ptTyIEU1NQc0k",
      "include_colab_link": true
    },
    "kernelspec": {
      "name": "python3",
      "display_name": "Python 3"
    },
    "language_info": {
      "name": "python"
    }
  },
  "cells": [
    {
      "cell_type": "markdown",
      "metadata": {
        "id": "view-in-github",
        "colab_type": "text"
      },
      "source": [
        "<a href=\"https://colab.research.google.com/github/hungpham13/Face-mask-detection/blob/main/PRJ0_Face_Mask_Detection.ipynb\" target=\"_parent\"><img src=\"https://colab.research.google.com/assets/colab-badge.svg\" alt=\"Open In Colab\"/></a>"
      ]
    },
    {
      "cell_type": "code",
      "metadata": {
        "id": "3mcPcpKASjEQ"
      },
      "source": [
        "!git clone https://github.com/hungpham13/Face-mask-detection.git"
      ],
      "execution_count": null,
      "outputs": []
    }
  ]
}